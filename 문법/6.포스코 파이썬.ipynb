{
 "cells": [
  {
   "cell_type": "markdown",
   "id": "7a923504",
   "metadata": {},
   "source": [
    "# 실습.1"
   ]
  },
  {
   "cell_type": "code",
   "execution_count": 89,
   "id": "deef0213",
   "metadata": {},
   "outputs": [
    {
     "name": "stdout",
     "output_type": "stream",
     "text": [
      "6 14\n",
      "6 14\n",
      "6\n"
     ]
    }
   ],
   "source": [
    "def my_len(x):\n",
    "    length = 0\n",
    "    for i in x:\n",
    "        length +=1\n",
    "    return length\n",
    "\n",
    "\n",
    "a = [5,5,6,7,8,3]\n",
    "b = 'Life is short.'\n",
    "print(len(a), len(b)) # 내장 함수 len()\n",
    "print(my_len(a), my_len(b)) # my_len()\n",
    "\n",
    "\n",
    "c=[1,23,4,5,6,6]\n",
    "print(c.__len__())\n"
   ]
  },
  {
   "cell_type": "code",
   "execution_count": 105,
   "id": "82603173",
   "metadata": {},
   "outputs": [
    {
     "name": "stdout",
     "output_type": "stream",
     "text": [
      "0\n",
      "1\n",
      "2\n",
      "3\n",
      "4\n",
      "5\n",
      "6\n",
      "7\n",
      "8\n",
      "9\n",
      "10\n"
     ]
    }
   ],
   "source": [
    "a=0\n",
    "while a<10:\n",
    "    print(a)\n",
    "    a+=1\n",
    "    \n",
    "print(a)"
   ]
  },
  {
   "cell_type": "markdown",
   "id": "b7a55397",
   "metadata": {},
   "source": [
    "# 실습.2"
   ]
  },
  {
   "cell_type": "code",
   "execution_count": 132,
   "id": "a68f9288",
   "metadata": {},
   "outputs": [
    {
     "name": "stdout",
     "output_type": "stream",
     "text": [
      "6\n",
      "120\n"
     ]
    }
   ],
   "source": [
    "def mult(a, b):\n",
    "    ans = 1\n",
    "    for i in range(a,b+1):\n",
    "        ans *=i\n",
    "    return ans\n",
    "\n",
    "\n",
    "def mult1(a, b):\n",
    "    ans = 1\n",
    "    while a <= b:\n",
    "        ans*=a\n",
    "        a+=1\n",
    "    return ans\n",
    "\n",
    "\n",
    "        \n",
    "print(mult(1, 3))\n",
    "print(mult1(2, 5))\n"
   ]
  },
  {
   "cell_type": "markdown",
   "id": "0b168226",
   "metadata": {},
   "source": [
    "# 실습.3"
   ]
  },
  {
   "cell_type": "code",
   "execution_count": 123,
   "id": "1fea58c3",
   "metadata": {},
   "outputs": [
    {
     "name": "stdout",
     "output_type": "stream",
     "text": [
      "7 -9\n",
      "1 -1\n"
     ]
    }
   ],
   "source": [
    "def sum_pos_neg(l):\n",
    "    possum = 0\n",
    "    negsum = 0\n",
    "    for i in range(len(l)):\n",
    "        if l[i] > 0:\n",
    "            possum += l[i]\n",
    "        else:\n",
    "            negsum += l[i]\n",
    "    return possum,negsum\n",
    "\n",
    "\n",
    "possum,negsum = sum_pos_neg([3,4,-6,-3])\n",
    "print(possum,negsum) # 7 -9\n",
    "mylist=[0,0,0,0,0,0,0,0,0,1,-1]\n",
    "possum2,negsum2 = sum_pos_neg(mylist)\n",
    "print(possum2,negsum2) # 1 -1"
   ]
  },
  {
   "cell_type": "code",
   "execution_count": 19,
   "id": "561040c2",
   "metadata": {},
   "outputs": [
    {
     "data": {
      "text/plain": [
       "2"
      ]
     },
     "execution_count": 19,
     "metadata": {},
     "output_type": "execute_result"
    }
   ],
   "source": [
    "def count_even(*n):\n",
    "    cnt = 0\n",
    "    for v in n:\n",
    "        if v % 2 == 0:\n",
    "            cnt += 1f mult1(a, b):\n",
    "    ans = 1\n",
    "    while b < 10:\n",
    "        print(a)\n",
    "    return cnt\n",
    "\n",
    "\n",
    "count_even(1,2,3,4,5)"
   ]
  },
  {
   "cell_type": "markdown",
   "id": "2797e579",
   "metadata": {},
   "source": [
    "# 실습.4"
   ]
  },
  {
   "cell_type": "code",
   "execution_count": 143,
   "id": "6e4443c0",
   "metadata": {},
   "outputs": [
    {
     "name": "stdout",
     "output_type": "stream",
     "text": [
      "[1.5 1.5] [7.5 5.5] [4.14 2.72]\n"
     ]
    }
   ],
   "source": [
    "import numpy as np\n",
    "\n",
    "\n",
    "\n",
    "\n",
    "def vector_sum(vector, *vectors):\n",
    "    u = np.array(vector , dtype=float)\n",
    "    w = np.array(vectors, dtype=float)\n",
    "    for i in vectors:\n",
    "        w = np.array(i)\n",
    "        u+=w\n",
    "    return u\n",
    "            \n",
    "    \n",
    "    \n",
    "    \n",
    "v1=[0, 1]\n",
    "v2=[0.5, 0.5]\n",
    "v3=[1, 0]\n",
    "v4=[6, 4]\n",
    "v5=[3.14, 2.72]\n",
    "m1 = vector_sum(v1, v2, v3)\n",
    "m2 = vector_sum(v1, v2, v3, v4)\n",
    "m3 = vector_sum(v3, v5)\n",
    "print(m1 , m2 , m3)    "
   ]
  },
  {
   "cell_type": "code",
   "execution_count": 98,
   "id": "a47602f1",
   "metadata": {},
   "outputs": [],
   "source": [
    "\n",
    "data = [\"first\", \"second\", \"third\"]\n",
    "for name in data:\n",
    "    globals()[name] = [x for x in range(3)]\n"
   ]
  },
  {
   "cell_type": "markdown",
   "id": "5d881fe7",
   "metadata": {},
   "source": [
    "# 실습.5"
   ]
  },
  {
   "cell_type": "code",
   "execution_count": 1,
   "id": "759c56f8",
   "metadata": {},
   "outputs": [
    {
     "name": "stdout",
     "output_type": "stream",
     "text": [
      "[1, 1, 2, 2, 3, 5, 9]\n",
      "[0, 4, 6, 9]\n",
      "[0, 0]\n"
     ]
    }
   ],
   "source": [
    "def merge_list(a=[0], b=[0]):\n",
    "    c = a+b\n",
    "    c.sort()\n",
    "    return c\n",
    "\n",
    "    \n",
    "    \n",
    "l = [3, 5, 9, 1, 2]\n",
    "ml1 = merge_list(l,[2,1])\n",
    "ml2 = merge_list([6,9,4])\n",
    "ml3 = merge_list()\n",
    "print(ml1)\n",
    "print(ml2)\n",
    "print(ml3)\n",
    "    "
   ]
  },
  {
   "cell_type": "markdown",
   "id": "f235f27e",
   "metadata": {},
   "source": [
    "# 실습.6"
   ]
  },
  {
   "cell_type": "code",
   "execution_count": 2,
   "id": "dca24674",
   "metadata": {},
   "outputs": [
    {
     "name": "stdout",
     "output_type": "stream",
     "text": [
      "** 로또 번호 자동 기입을 시작합니다 **\n",
      "1번째 자동 기입 ==>[10, 34, 40, 29, 20, 30]\n",
      "2번째 자동 기입 ==>[22, 43, 21, 38, 24, 26]\n",
      "3번째 자동 기입 ==>[3, 19, 44, 5, 11, 15]\n",
      "4번째 자동 기입 ==>[29, 43, 2, 0, 25, 24]\n",
      "5번째 자동 기입 ==>[34, 7, 17, 11, 41, 8]\n"
     ]
    }
   ],
   "source": [
    "# 실습.6\n",
    "import random\n",
    "print(\"** 로또 번호 자동 기입을 시작합니다 **\")\n",
    "for i in range(5):\n",
    "    a= random.sample(range(45), 6)\n",
    "    print(str(i+1) +\"번째 자동 기입 ==>\" ,end=\"\")\n",
    "    print(a)\n"
   ]
  },
  {
   "cell_type": "markdown",
   "id": "57b0ed0e",
   "metadata": {},
   "source": [
    "# 실습.7"
   ]
  },
  {
   "cell_type": "code",
   "execution_count": 3,
   "id": "04052708",
   "metadata": {},
   "outputs": [
    {
     "name": "stdout",
     "output_type": "stream",
     "text": [
      "2\n",
      "5\n",
      "[3, 5, 2]\n"
     ]
    }
   ],
   "source": [
    "def get_min_max(l):\n",
    "    l.remove(min(l))\n",
    "    l.remove(max(l))\n",
    "    min_val = min(l)\n",
    "    max_val = max(l)\n",
    "    return min_val,max_val\n",
    "    \n",
    "    \n",
    "l = [3, 5, 9, 1, 2]\n",
    "min_val, max_val = get_min_max(l)\n",
    "print(min_val)\n",
    "print(max_val)\n",
    "print(l)\n"
   ]
  },
  {
   "cell_type": "markdown",
   "id": "cfcbbcc8",
   "metadata": {},
   "source": [
    "# 실습.8"
   ]
  },
  {
   "cell_type": "code",
   "execution_count": 5,
   "id": "e5770e2d",
   "metadata": {},
   "outputs": [
    {
     "data": {
      "text/plain": [
       "{'a': 3, 'b': 3, 'c': 4, 'd': 7, 'e': 9}"
      ]
     },
     "execution_count": 5,
     "metadata": {},
     "output_type": "execute_result"
    }
   ],
   "source": [
    "from collections import Counter\n",
    "\n",
    "\n",
    "def comb_dict(d1, d2):\n",
    "    result = dict(Counter(d1)+Counter(d2))\n",
    "    dic = dict(sorted(result.items()))\n",
    "    return dic\n",
    "    \n",
    "d1 = {'a': 1, 'b': 3, 'd': 7, 'e': 8}\n",
    "d2 = {'a': 2, 'c': 4, 'e': 1}\n",
    "comb_dict(d1, d2)"
   ]
  },
  {
   "cell_type": "markdown",
   "id": "ed872277",
   "metadata": {},
   "source": [
    "# 9.실습"
   ]
  },
  {
   "cell_type": "code",
   "execution_count": 6,
   "id": "cf7b96a1",
   "metadata": {},
   "outputs": [
    {
     "name": "stdout",
     "output_type": "stream",
     "text": [
      "4\n",
      "300\n",
      "error\n"
     ]
    }
   ],
   "source": [
    "def diff(*n):\n",
    "    n=list(n)\n",
    "    if len(n) > 1:\n",
    "        return max(n) - min(n)\n",
    "    else:\n",
    "        print(\"error\")\n",
    "    \n",
    "print(diff(1,2,3,4,5))\n",
    "print(diff(-100, 200))\n",
    "diff(1) # 오류발생!\n",
    "\n"
   ]
  }
 ],
 "metadata": {
  "kernelspec": {
   "display_name": "Python 3 (ipykernel)",
   "language": "python",
   "name": "python3"
  },
  "language_info": {
   "codemirror_mode": {
    "name": "ipython",
    "version": 3
   },
   "file_extension": ".py",
   "mimetype": "text/x-python",
   "name": "python",
   "nbconvert_exporter": "python",
   "pygments_lexer": "ipython3",
   "version": "3.9.13"
  }
 },
 "nbformat": 4,
 "nbformat_minor": 5
}
