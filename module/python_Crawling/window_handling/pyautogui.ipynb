{
 "cells": [
  {
   "cell_type": "code",
   "execution_count": 1,
   "id": "0467331a",
   "metadata": {},
   "outputs": [],
   "source": [
    "# 윈도우를 핸들링하는 도구\n",
    "\n",
    "# !pip install pyautogui\n",
    "# !pip install clipboard\n",
    "# pip install opencv-python\n",
    "# !pip install pillow"
   ]
  },
  {
   "cell_type": "code",
   "execution_count": 2,
   "id": "3dbf62ba",
   "metadata": {},
   "outputs": [],
   "source": [
    "import pyautogui as pg\n",
    "import clipboard\n",
    "import cv2"
   ]
  },
  {
   "cell_type": "code",
   "execution_count": 3,
   "id": "29b45a68",
   "metadata": {},
   "outputs": [
    {
     "data": {
      "text/plain": [
       "Size(width=1920, height=1080)"
      ]
     },
     "execution_count": 3,
     "metadata": {},
     "output_type": "execute_result"
    }
   ],
   "source": [
    "pg.size()"
   ]
  },
  {
   "cell_type": "code",
   "execution_count": 60,
   "id": "2177f445",
   "metadata": {},
   "outputs": [
    {
     "data": {
      "text/plain": [
       "Point(x=611, y=264)"
      ]
     },
     "execution_count": 60,
     "metadata": {},
     "output_type": "execute_result"
    }
   ],
   "source": [
    "# pg.sleep(3)\n",
    "pg.position()"
   ]
  },
  {
   "cell_type": "code",
   "execution_count": 137,
   "id": "e562b01c",
   "metadata": {},
   "outputs": [],
   "source": [
    "# 절대좌표 이동\n",
    "# pg.moveTo( x ,y ,duration = 몇초동안)\n",
    "pg.moveTo(1000,1000,duration = 0.1)"
   ]
  },
  {
   "cell_type": "code",
   "execution_count": 128,
   "id": "d5550119",
   "metadata": {},
   "outputs": [],
   "source": [
    "# 상대좌표 이동\n",
    "pg.move(200,300,duration = 0.1)"
   ]
  },
  {
   "cell_type": "code",
   "execution_count": 45,
   "id": "27609ff8",
   "metadata": {},
   "outputs": [],
   "source": [
    "# 드레그 \n",
    "# 절대좌표\n",
    "pg.dragTo(500,500,2,button='left')pg.dragTo(500,500,2,button='left')"
   ]
  },
  {
   "cell_type": "code",
   "execution_count": 53,
   "id": "00b43f7f",
   "metadata": {},
   "outputs": [],
   "source": [
    "# 상대좌표\n",
    "pg.drag(500,500,2,button='left')\n",
    "pg.drag(500,500,2,button='right')"
   ]
  },
  {
   "cell_type": "code",
   "execution_count": null,
   "id": "d11b7641",
   "metadata": {},
   "outputs": [],
   "source": [
    "pg.onScreen(500,600)"
   ]
  },
  {
   "cell_type": "code",
   "execution_count": 59,
   "id": "4b4d15d8",
   "metadata": {},
   "outputs": [],
   "source": [
    "pg.click()"
   ]
  },
  {
   "cell_type": "code",
   "execution_count": 61,
   "id": "8984554f",
   "metadata": {},
   "outputs": [],
   "source": [
    "# Point(x=611, y=264)\n",
    "pg.click(x=611, y=264)"
   ]
  },
  {
   "cell_type": "code",
   "execution_count": 62,
   "id": "ce04c057",
   "metadata": {},
   "outputs": [],
   "source": [
    "pg.click(x=611, y=264 , button=\"right\")"
   ]
  },
  {
   "cell_type": "code",
   "execution_count": 66,
   "id": "88d48c1e",
   "metadata": {},
   "outputs": [],
   "source": [
    "pg.rightClick(x=611, y=264)"
   ]
  },
  {
   "cell_type": "code",
   "execution_count": 76,
   "id": "78305121",
   "metadata": {},
   "outputs": [],
   "source": [
    "# pg.position()\n",
    "# Point(x=48, y=184)\n",
    "\n",
    "pg.doubleClick(x=48, y=184)"
   ]
  },
  {
   "cell_type": "code",
   "execution_count": 75,
   "id": "d9178816",
   "metadata": {},
   "outputs": [],
   "source": [
    "pg.doubleClick(x=48, y=184 ,button = \"right\")"
   ]
  },
  {
   "cell_type": "code",
   "execution_count": 80,
   "id": "a27378c9",
   "metadata": {},
   "outputs": [
    {
     "data": {
      "text/plain": [
       "Point(x=362, y=207)"
      ]
     },
     "execution_count": 80,
     "metadata": {},
     "output_type": "execute_result"
    }
   ],
   "source": [
    "pg.position()"
   ]
  },
  {
   "cell_type": "code",
   "execution_count": 82,
   "id": "53a20d49",
   "metadata": {},
   "outputs": [],
   "source": [
    "pg.click(x=362, y=207 )\n",
    "pg.sleep(1)\n",
    "pg.write(\"hello\")"
   ]
  },
  {
   "cell_type": "code",
   "execution_count": 87,
   "id": "db218b53",
   "metadata": {},
   "outputs": [],
   "source": [
    "pg.click(x=362, y=207 )\n",
    "pg.sleep(1)\n",
    "# 특정초로 글자를 한자씩 입력 단 한글은 할숭 없어서 \n",
    "# 복사붙이기를 한다.\n",
    "pg.write(\"hello my name is terminater\" , interval = 0.1)"
   ]
  },
  {
   "cell_type": "code",
   "execution_count": 103,
   "id": "1c396f3d",
   "metadata": {},
   "outputs": [],
   "source": [
    "pg.sleep(1)\n",
    "clipboard.copy(\"안녕하세요\")\n",
    "pg.hotkey('ctrl' , 'v')\n"
   ]
  },
  {
   "cell_type": "code",
   "execution_count": 104,
   "id": "4863ba3a",
   "metadata": {},
   "outputs": [],
   "source": [
    "# pg.hotkey('ctrl' , 'c')\n",
    "# pg.hotkey('ctrl' , 'enter')\n",
    "pg.hotkey('win' , 'r')"
   ]
  },
  {
   "cell_type": "code",
   "execution_count": 65,
   "id": "8e0408fa",
   "metadata": {},
   "outputs": [],
   "source": [
    "pg.keyDown('shift')\n",
    "pg.keyUp('shift')"
   ]
  },
  {
   "cell_type": "code",
   "execution_count": 109,
   "id": "e8525e0a",
   "metadata": {},
   "outputs": [],
   "source": [
    "pg.press('enter')"
   ]
  },
  {
   "cell_type": "code",
   "execution_count": 116,
   "id": "b8ea855e",
   "metadata": {},
   "outputs": [],
   "source": [
    "# 여러번 사용\n",
    "pg.press(['enter' , 'enter' ,'enter'] )"
   ]
  },
  {
   "cell_type": "code",
   "execution_count": null,
   "id": "45bf7de6",
   "metadata": {},
   "outputs": [],
   "source": [
    "pg.press(['enter' , 'enter' ,'enter'] )"
   ]
  },
  {
   "cell_type": "code",
   "execution_count": 10,
   "id": "d1815dfb",
   "metadata": {},
   "outputs": [
    {
     "data": {
      "text/plain": [
       "'확인'"
      ]
     },
     "execution_count": 10,
     "metadata": {},
     "output_type": "execute_result"
    }
   ],
   "source": [
    "pg.alert(title = \"메시지 박스 제목\" , text = '메시지 내용' , button = \"확인\")"
   ]
  },
  {
   "cell_type": "code",
   "execution_count": 12,
   "id": "b08da8e8",
   "metadata": {},
   "outputs": [
    {
     "data": {
      "text/plain": [
       "'CANCEL'"
      ]
     },
     "execution_count": 12,
     "metadata": {},
     "output_type": "execute_result"
    }
   ],
   "source": [
    "pg.confirm(title = \"메시지 박스 제목\" , text = '메시지 내용' , buttons = [\"OK\" , 'CANCEL'])"
   ]
  },
  {
   "cell_type": "code",
   "execution_count": 14,
   "id": "849891df",
   "metadata": {},
   "outputs": [
    {
     "data": {
      "text/plain": [
       "'IDaaaaaaaaaaa'"
      ]
     },
     "execution_count": 14,
     "metadata": {},
     "output_type": "execute_result"
    }
   ],
   "source": [
    "pg.prompt(text = \"아이디를 입력하세요\" , title = '로그인 ID' , default = \"ID 입력\")"
   ]
  },
  {
   "cell_type": "code",
   "execution_count": 18,
   "id": "5e215488",
   "metadata": {},
   "outputs": [
    {
     "data": {
      "text/plain": [
       "'aaaaaaaaa'"
      ]
     },
     "execution_count": 18,
     "metadata": {},
     "output_type": "execute_result"
    }
   ],
   "source": [
    "my_id = pg.prompt(text = \"아이디를 입력하세요\" , title = '로그인 ID' , default = \"ID 입력\")\n",
    "my_id"
   ]
  },
  {
   "cell_type": "code",
   "execution_count": 19,
   "id": "418b378b",
   "metadata": {},
   "outputs": [
    {
     "data": {
      "text/plain": [
       "'23456789'"
      ]
     },
     "execution_count": 19,
     "metadata": {},
     "output_type": "execute_result"
    }
   ],
   "source": [
    "my_id = pg.password(text = \"암호를 입력하세요\" , title = '로그인 암호' , default = \"암호 입력\")\n",
    "my_id"
   ]
  },
  {
   "cell_type": "code",
   "execution_count": 71,
   "id": "a27fc71a",
   "metadata": {
    "scrolled": true
   },
   "outputs": [
    {
     "data": {
      "image/png": "[encoded data removed]",
      "text/plain": [
       "<PIL.Image.Image image mode=RGB size=500x600 at 0x1584E3A21C0>"
      ]
     },
     "execution_count": 71,
     "metadata": {},
     "output_type": "execute_result"
    }
   ],
   "source": [
    "image01 = pg.screenshot\n",
    "pg.screenshot(\"aaa.png\")\n",
    "pg.screenshot(\"aaa.png\" , region=(0,0,500,600))"
   ]
  },
  {
   "cell_type": "code",
   "execution_count": 72,
   "id": "08ca3ba4",
   "metadata": {},
   "outputs": [
    {
     "data": {
      "text/plain": [
       "Box(left=0, top=0, width=500, height=600)"
      ]
     },
     "execution_count": 72,
     "metadata": {},
     "output_type": "execute_result"
    }
   ],
   "source": [
    "pg.locateOnScreen(\"aaa.png\")"
   ]
  },
  {
   "cell_type": "code",
   "execution_count": 73,
   "id": "05795091",
   "metadata": {},
   "outputs": [],
   "source": [
    "win_b = pg.locateCenterOnScreen(\"aaa.png\")"
   ]
  },
  {
   "cell_type": "code",
   "execution_count": 74,
   "id": "ff08f80e",
   "metadata": {},
   "outputs": [],
   "source": [
    "pg.click(win_b)"
   ]
  },
  {
   "cell_type": "code",
   "execution_count": 75,
   "id": "af919fe1",
   "metadata": {},
   "outputs": [],
   "source": [
    "pg.locateCenterOnScreen(\"aaa.png\" ,region=(0,0,500,600))\n"
   ]
  },
  {
   "cell_type": "code",
   "execution_count": 80,
   "id": "2675fb61",
   "metadata": {},
   "outputs": [
    {
     "name": "stdout",
     "output_type": "stream",
     "text": [
      "웹크롤링 - Jupyter Notebook - Chrome\n",
      "Size(width=976, height=1038)\n"
     ]
    }
   ],
   "source": [
    "win = pg.getActiveWindow()\n",
    "print(win.title)\n",
    "print(win.size)"
   ]
  },
  {
   "cell_type": "code",
   "execution_count": 81,
   "id": "22881a40",
   "metadata": {},
   "outputs": [
    {
     "name": "stdout",
     "output_type": "stream",
     "text": [
      "<Win32Window left=\"0\", top=\"0\", width=\"1\", height=\"1\", title=\"\">\n",
      "<Win32Window left=\"0\", top=\"1030\", width=\"1920\", height=\"50\", title=\"\">\n",
      "<Win32Window left=\"952\", top=\"0\", width=\"976\", height=\"1038\", title=\"웹크롤링 - Jupyter Notebook - Chrome\">\n",
      "<Win32Window left=\"58\", top=\"49\", width=\"853\", height=\"1045\", title=\"제목 없음 - Windows 메모장\">\n",
      "<Win32Window left=\"960\", top=\"108\", width=\"475\", height=\"844\", title=\"KakaoTalkEdgeWnd\">\n",
      "<Win32Window left=\"960\", top=\"108\", width=\"475\", height=\"844\", title=\"한지혜\">\n",
      "<Win32Window left=\"956\", top=\"105\", width=\"483\", height=\"852\", title=\"KakaoTalkShadowWnd\">\n",
      "<Win32Window left=\"935\", top=\"144\", width=\"941\", height=\"789\", title=\"포스코 과아아아제\">\n",
      "<Win32Window left=\"0\", top=\"0\", width=\"170\", height=\"47\", title=\"\">\n",
      "<Win32Window left=\"903\", top=\"112\", width=\"941\", height=\"789\", title=\"Anaconda3 (64-bit)\">\n",
      "<Win32Window left=\"128\", top=\"128\", width=\"1239\", height=\"647\", title=\"관리자: Anaconda Powershell Prompt (anaconda)\">\n",
      "<Win32Window left=\"0\", top=\"0\", width=\"1920\", height=\"1030\", title=\"\">\n",
      "<Win32Window left=\"0\", top=\"0\", width=\"0\", height=\"0\", title=\"AsHotplugCtrl\">\n",
      "<Win32Window left=\"0\", top=\"0\", width=\"1920\", height=\"1080\", title=\"Microsoft Text Input Application\">\n",
      "<Win32Window left=\"0\", top=\"0\", width=\"1920\", height=\"1080\", title=\"NVIDIA GeForce Overlay\">\n",
      "<Win32Window left=\"19\", top=\"0\", width=\"1901\", height=\"4\", title=\"\">\n",
      "<Win32Window left=\"0\", top=\"0\", width=\"0\", height=\"0\", title=\"\">\n",
      "<Win32Window left=\"0\", top=\"0\", width=\"0\", height=\"0\", title=\"\">\n",
      "<Win32Window left=\"0\", top=\"0\", width=\"0\", height=\"0\", title=\"\">\n",
      "<Win32Window left=\"0\", top=\"0\", width=\"1920\", height=\"1080\", title=\"\">\n",
      "<Win32Window left=\"0\", top=\"0\", width=\"1920\", height=\"1080\", title=\"\">\n",
      "<Win32Window left=\"0\", top=\"0\", width=\"1920\", height=\"1080\", title=\"Program Manager\">\n"
     ]
    }
   ],
   "source": [
    "for win in pg.getAllWindows():\n",
    "    print(win)"
   ]
  },
  {
   "cell_type": "code",
   "execution_count": 82,
   "id": "d5b1041e",
   "metadata": {},
   "outputs": [
    {
     "name": "stdout",
     "output_type": "stream",
     "text": [
      "<Win32Window left=\"58\", top=\"49\", width=\"853\", height=\"1045\", title=\"제목 없음 - Windows 메모장\">\n"
     ]
    }
   ],
   "source": [
    "for win in pg.getWindowsWithTitle(\"제목 없음\"):\n",
    "    print(win)"
   ]
  },
  {
   "cell_type": "code",
   "execution_count": 83,
   "id": "16bafef0",
   "metadata": {},
   "outputs": [],
   "source": [
    "win = pg.getWindowsWithTitle(\"제목 없음\")[0]\n",
    "win.activate()"
   ]
  },
  {
   "cell_type": "code",
   "execution_count": 84,
   "id": "5a26b3b6",
   "metadata": {},
   "outputs": [],
   "source": [
    "win = pg.getWindowsWithTitle(\"제목 없음\")[0]\n",
    "win.maximize()"
   ]
  },
  {
   "cell_type": "code",
   "execution_count": 85,
   "id": "9144a790",
   "metadata": {},
   "outputs": [],
   "source": [
    "win.restore()"
   ]
  },
  {
   "cell_type": "code",
   "execution_count": 86,
   "id": "43846713",
   "metadata": {},
   "outputs": [],
   "source": [
    "win.close()"
   ]
  },
  {
   "cell_type": "markdown",
   "id": "729db6ae",
   "metadata": {},
   "source": [
    "메모장에 그림 그리기"
   ]
  },
  {
   "cell_type": "code",
   "execution_count": 7,
   "id": "7a0d30f2",
   "metadata": {},
   "outputs": [],
   "source": [
    "pg.keyDown('win')\n",
    "pg.hotkey('r')\n",
    "pg.keyUp('win')\n",
    "pg.sleep(0.5)\n",
    "pg.write(\"mspaint\")\n",
    "pg.press(\"enter\")"
   ]
  },
  {
   "cell_type": "code",
   "execution_count": 14,
   "id": "2846823b",
   "metadata": {},
   "outputs": [
    {
     "data": {
      "text/plain": [
       "Point(x=323, y=500)"
      ]
     },
     "execution_count": 14,
     "metadata": {},
     "output_type": "execute_result"
    }
   ],
   "source": [
    "pg.position()"
   ]
  },
  {
   "cell_type": "markdown",
   "id": "7c09d970",
   "metadata": {},
   "source": [
    "네모 그리기"
   ]
  },
  {
   "cell_type": "code",
   "execution_count": 3,
   "id": "10f99828",
   "metadata": {},
   "outputs": [],
   "source": [
    "# 절대좌표 이동\n",
    "# pg.moveTo( x ,y ,duration = 몇초동안)\n",
    "pg.sleep(0.5)\n",
    "pg.moveTo(323,500,duration = 0.1)\n",
    "\n",
    "distance = 500\n",
    "while distance > 0:\n",
    "    pg.drag(distance , 0 ,duration = 0.05)\n",
    "    distance -= 5\n",
    "    pg.drag(0, distance , duration =0.05)\n",
    "    pg.drag(-distance, 0 , duration =0.05)\n",
    "    distance -= 5\n",
    "    pg.drag(0, -distance , duration =0.05)\n"
   ]
  },
  {
   "cell_type": "markdown",
   "id": "c8527879",
   "metadata": {},
   "source": [
    "마름모"
   ]
  },
  {
   "cell_type": "code",
   "execution_count": 44,
   "id": "fd19f3ac",
   "metadata": {},
   "outputs": [],
   "source": [
    "# 절대좌표 이동\n",
    "# pg.moveTo( x ,y ,duration = 몇초동안)\n",
    "pg.sleep(0.5)\n",
    "pg.moveTo(323,500,duration = 0.1)\n",
    "\n",
    "\n",
    "distance = 250\n",
    "while distance > 0:\n",
    "    pg.drag(distance , -distance ,duration = 0.05)\n",
    "    distance -= 5\n",
    "    pg.drag(distance, distance , duration =0.05)\n",
    "    pg.drag(-distance, distance , duration =0.05)\n",
    "    distance -= 5\n",
    "    pg.drag(-distance, -distance , duration =0.05)\n",
    "\n"
   ]
  },
  {
   "cell_type": "code",
   "execution_count": null,
   "id": "a76512ff",
   "metadata": {},
   "outputs": [],
   "source": []
  }
 ],
 "metadata": {
  "kernelspec": {
   "display_name": "Python 3 (ipykernel)",
   "language": "python",
   "name": "python3"
  },
  "language_info": {
   "codemirror_mode": {
    "name": "ipython",
    "version": 3
   },
   "file_extension": ".py",
   "mimetype": "text/x-python",
   "name": "python",
   "nbconvert_exporter": "python",
   "pygments_lexer": "ipython3",
   "version": "3.9.1"
  }
 },
 "nbformat": 4,
 "nbformat_minor": 5
}
