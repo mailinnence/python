{
 "cells": [
  {
   "cell_type": "code",
   "execution_count": 5,
   "id": "4a05dcbc",
   "metadata": {},
   "outputs": [],
   "source": [
    "# !pip install --upgrade pip \n",
    "# !python -m pip install selenium\n",
    "# !python -m pip install webdriver-manager\n"
   ]
  },
  {
   "cell_type": "code",
   "execution_count": 8,
   "id": "3c26e2de",
   "metadata": {},
   "outputs": [],
   "source": [
    "from selenium import webdriver\n",
    "from webdriver_manager.chrome import ChromeDriverManager\n",
    "from selenium.webdriver.common.by import By\n",
    "from selenium.webdriver.support.ui import Select\n",
    "\n",
    "import pyautogui as pg\n",
    "import clipboard\n",
    "import cv2\n",
    "\n",
    "import time\n"
   ]
  },
  {
   "cell_type": "code",
   "execution_count": null,
   "id": "ceb67158",
   "metadata": {},
   "outputs": [],
   "source": [
    "#1.접속\n",
    "driver = webdriver.Chrome(ChromeDriverManager().install()) #드라이버 실행\n",
    "\n",
    "#1.접속\n",
    "driver.get('https://www.naver.com/')\n",
    "time.sleep(3)                           \n"
   ]
  },
  {
   "cell_type": "code",
   "execution_count": 30,
   "id": "f2f013cf",
   "metadata": {
    "scrolled": true
   },
   "outputs": [],
   "source": [
    "driver.find_element(By.XPATH,'//*[@id=\"query\"]').send_keys('아이유')  \n",
    "driver.find_element(By.XPATH,'//*[@id=\"search_btn\"]/span[2]').click()"
   ]
  },
  {
   "cell_type": "markdown",
   "id": "950d6f62",
   "metadata": {},
   "source": [
    "건강 검진"
   ]
  },
  {
   "cell_type": "code",
   "execution_count": 37,
   "id": "192d07c2",
   "metadata": {},
   "outputs": [],
   "source": [
    "#1.접속\n",
    "driver.get('https://www.data.go.kr/')\n",
    "time.sleep(3)   "
   ]
  },
  {
   "cell_type": "code",
   "execution_count": 38,
   "id": "9c6c8f2f",
   "metadata": {},
   "outputs": [],
   "source": [
    "driver.find_element(By.XPATH,'//*[@id=\"keyword\"]').send_keys('국민건강보험공단_건강검진정보')  \n",
    "time.sleep(1) \n",
    "driver.find_element(By.XPATH,'//*[@id=\"searchFrm\"]/div[1]/button').click()\n",
    "time.sleep(1) \n",
    "driver.find_element(By.XPATH,'//*[@id=\"fileDataList\"]/div[2]/ul/li[1]/dl/dt/a/span[2]/span[1]').click()\n",
    "time.sleep(1) \n",
    "# 다운로드 임으로 왠만하면 하지 말 것\n",
    "# driver.find_element(By.XPATH,'//*[@id=\"tab-layer-file\"]/div[2]/div[2]/a').click()\n",
    "time.sleep(1) \n",
    "\n"
   ]
  },
  {
   "cell_type": "code",
   "execution_count": 41,
   "id": "c0b18f9a",
   "metadata": {},
   "outputs": [],
   "source": [
    "driver.find_element(By.XPATH,'//*[@id=\"tab-layer-file\"]/div[2]/div[2]/a').click()\n"
   ]
  },
  {
   "cell_type": "code",
   "execution_count": 44,
   "id": "3156dbd9",
   "metadata": {},
   "outputs": [
    {
     "data": {
      "text/plain": [
       "'gkgkg'"
      ]
     },
     "execution_count": 44,
     "metadata": {},
     "output_type": "execute_result"
    }
   ],
   "source": [
    "my_id = pg.prompt(text = \"아이디를 입력하세요\" , title = '로그인 ID' , default = \"ID 입력\")\n",
    "my_id"
   ]
  },
  {
   "cell_type": "code",
   "execution_count": 46,
   "id": "9c52a543",
   "metadata": {},
   "outputs": [
    {
     "data": {
      "text/plain": [
       "'asdfghjk'"
      ]
     },
     "execution_count": 46,
     "metadata": {},
     "output_type": "execute_result"
    }
   ],
   "source": [
    "my_pw = pg.password(text = \"암호를 입력하세요\" , title = '로그인 암호' )\n",
    "my_pw"
   ]
  },
  {
   "cell_type": "markdown",
   "id": "c453a58e",
   "metadata": {},
   "source": [
    "네이버 로그인"
   ]
  },
  {
   "cell_type": "code",
   "execution_count": 61,
   "id": "2f4212e7",
   "metadata": {},
   "outputs": [
    {
     "name": "stderr",
     "output_type": "stream",
     "text": [
      "\n",
      "\n",
      "====== WebDriver manager ======\n",
      "Current google-chrome version is 107.0.5304\n",
      "Get LATEST chromedriver version for 107.0.5304 google-chrome\n",
      "Driver [C:\\Users\\maili\\.wdm\\drivers\\chromedriver\\win32\\107.0.5304.62\\chromedriver.exe] found in cache\n",
      "C:\\Users\\maili\\AppData\\Local\\Temp\\ipykernel_7436\\2882902873.py:1: DeprecationWarning: executable_path has been deprecated, please pass in a Service object\n",
      "  driver = webdriver.Chrome(ChromeDriverManager().install()) #드라이버 실행\n"
     ]
    }
   ],
   "source": [
    "driver = webdriver.Chrome(ChromeDriverManager().install()) #드라이버 실행\n",
    "\n",
    "driver.get('https://www.naver.com/')\n",
    "time.sleep(3)              "
   ]
  },
  {
   "cell_type": "code",
   "execution_count": 62,
   "id": "9d6b9be2",
   "metadata": {},
   "outputs": [],
   "source": [
    "driver.find_element(By.XPATH,'//*[@id=\"account\"]/a').click()\n",
    "time.sleep(1)"
   ]
  },
  {
   "cell_type": "code",
   "execution_count": 63,
   "id": "17cb799a",
   "metadata": {},
   "outputs": [],
   "source": [
    "driver.find_element(By.ID,'id').send_keys('aaaaaa')\n",
    "time.sleep(1)\n",
    "driver.find_element(By.ID,'pw').send_keys('123456')\n",
    "time.sleep(1)\n",
    "driver.find_element(By.XPATH,'//*[@id=\"log.login\"]').click()\n",
    "time.sleep(1)"
   ]
  },
  {
   "cell_type": "code",
   "execution_count": null,
   "id": "d3c23748",
   "metadata": {},
   "outputs": [],
   "source": [
    "driver = webdriver.Chrome(ChromeDriverManager().install()) #드라이버 실행\n",
    "\n",
    "driver.get('https://www.naver.com/')\n",
    "time.sleep(3)              \n"
   ]
  },
  {
   "cell_type": "markdown",
   "id": "cabdb693",
   "metadata": {},
   "source": [
    "부동산"
   ]
  },
  {
   "cell_type": "code",
   "execution_count": 2,
   "id": "14ab4969",
   "metadata": {},
   "outputs": [
    {
     "name": "stderr",
     "output_type": "stream",
     "text": [
      "\n",
      "\n",
      "====== WebDriver manager ======\n",
      "Current google-chrome version is 107.0.5304\n",
      "Get LATEST chromedriver version for 107.0.5304 google-chrome\n",
      "Driver [C:\\Users\\maili\\.wdm\\drivers\\chromedriver\\win32\\107.0.5304.62\\chromedriver.exe] found in cache\n",
      "C:\\Users\\maili\\AppData\\Local\\Temp\\ipykernel_10608\\2927377822.py:3: DeprecationWarning: executable_path has been deprecated, please pass in a Service object\n",
      "  driver = webdriver.Chrome(ChromeDriverManager().install()) #드라이버 실행\n"
     ]
    }
   ],
   "source": [
    "url = 'https://www.reb.or.kr/r-one/main.do'\n",
    "\n",
    "driver = webdriver.Chrome(ChromeDriverManager().install()) #드라이버 실행\n",
    "driver.get(url)\n",
    "# 로딩관련 함수\n",
    "driver.implicitly_wait(10) "
   ]
  },
  {
   "cell_type": "code",
   "execution_count": 4,
   "id": "ac05cc5e",
   "metadata": {},
   "outputs": [],
   "source": [
    "driver.find_element(By.XPATH,'//*[@id=\"tab\"]/li[3]/a').click()\n",
    "driver.implicitly_wait(10) "
   ]
  },
  {
   "cell_type": "code",
   "execution_count": 5,
   "id": "d5deed2c",
   "metadata": {},
   "outputs": [],
   "source": [
    "driver.find_element(By.XPATH,'//*[@id=\"tab02\"]/div[2]/ul/li[2]/a/p').click()\n",
    "driver.implicitly_wait(10) "
   ]
  },
  {
   "cell_type": "code",
   "execution_count": 6,
   "id": "0de76d62",
   "metadata": {},
   "outputs": [],
   "source": [
    "# 새 창이 만들어짐으로써 창을 전환 시켜주는 옵션이 필요하다\n",
    "# 새 창으로 전환\n",
    "driver.switch_to.window(driver.window_handles[-1])"
   ]
  },
  {
   "cell_type": "code",
   "execution_count": 19,
   "id": "6d95888b",
   "metadata": {},
   "outputs": [],
   "source": [
    "select = Select(driver.find_element(By.XPATH , '//*[@id=\"researchYear_s\"]'))\n",
    "pg.sleep(1)\n",
    "select.select_by_value('2020')\n",
    "\n",
    "select = Select(driver.find_element(By.XPATH , '//*[@id=\"researchMonth_s\"]'))\n",
    "pg.sleep(1)\n",
    "select.select_by_value('01')\n",
    "\n",
    "select = Select(driver.find_element(By.XPATH , '//*[@id=\"researchYear_e\"]'))\n",
    "pg.sleep(1)\n",
    "select.select_by_value('2021')\n",
    "\n",
    "select = Select(driver.find_element(By.XPATH , '//*[@id=\"researchMonth_e\"]'))\n",
    "pg.sleep(1)\n",
    "select.select_by_value('12')\n",
    "\n",
    "driver.find_element(By.XPATH,'//*[@id=\"statisticsBtnOk\"]').click()\n",
    "pg.sleep(5)\n",
    "\n",
    "# 다운로드 \n",
    "# driver.find_element(By.XPATH,'//*[@id=\"imgDownloadAll\"]\"]').click()\n",
    "# pg.sleep(5)\n",
    "\n"
   ]
  },
  {
   "cell_type": "code",
   "execution_count": null,
   "id": "5ccce8e3",
   "metadata": {},
   "outputs": [],
   "source": []
  }
 ],
 "metadata": {
  "kernelspec": {
   "display_name": "Python 3 (ipykernel)",
   "language": "python",
   "name": "python3"
  },
  "language_info": {
   "codemirror_mode": {
    "name": "ipython",
    "version": 3
   },
   "file_extension": ".py",
   "mimetype": "text/x-python",
   "name": "python",
   "nbconvert_exporter": "python",
   "pygments_lexer": "ipython3",
   "version": "3.9.1"
  }
 },
 "nbformat": 4,
 "nbformat_minor": 5
}
